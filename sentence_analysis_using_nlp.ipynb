{
  "nbformat": 4,
  "nbformat_minor": 0,
  "metadata": {
    "colab": {
      "name": "sentence_analysis.ipynb",
      "provenance": []
    },
    "kernelspec": {
      "name": "python3",
      "display_name": "Python 3"
    }
  },
  "cells": [
    {
      "cell_type": "code",
      "metadata": {
        "id": "ARYOByGV_RI0"
      },
      "source": [
        "import string\r\n",
        "from nltk.corpus import stopwords"
      ],
      "execution_count": 1,
      "outputs": []
    },
    {
      "cell_type": "code",
      "metadata": {
        "colab": {
          "base_uri": "https://localhost:8080/"
        },
        "id": "Eb9x0_EPCdAU",
        "outputId": "787d4ed1-3b84-4442-d7c8-01294ea8319e"
      },
      "source": [
        "import nltk\r\n",
        "nltk.download('stopwords')"
      ],
      "execution_count": 4,
      "outputs": [
        {
          "output_type": "stream",
          "text": [
            "[nltk_data] Downloading package stopwords to /root/nltk_data...\n",
            "[nltk_data]   Unzipping corpora/stopwords.zip.\n"
          ],
          "name": "stdout"
        },
        {
          "output_type": "execute_result",
          "data": {
            "text/plain": [
              "True"
            ]
          },
          "metadata": {
            "tags": []
          },
          "execution_count": 4
        }
      ]
    },
    {
      "cell_type": "code",
      "metadata": {
        "colab": {
          "base_uri": "https://localhost:8080/"
        },
        "id": "WpLYeYPwBPP6",
        "outputId": "d9265d8a-f695-4bd1-ed34-94498cfaf866"
      },
      "source": [
        "#view 10 stopwords in english corpus\r\n",
        "stopwords.words('english')[1:10]"
      ],
      "execution_count": 5,
      "outputs": [
        {
          "output_type": "execute_result",
          "data": {
            "text/plain": [
              "['me', 'my', 'myself', 'we', 'our', 'ours', 'ourselves', 'you', \"you're\"]"
            ]
          },
          "metadata": {
            "tags": []
          },
          "execution_count": 5
        }
      ]
    },
    {
      "cell_type": "code",
      "metadata": {
        "id": "KP23F_kiCZeE"
      },
      "source": [
        "#create a test sentence\r\n",
        "test_sentence = 'This is my first test sentence. Wow! we are doing just fine'"
      ],
      "execution_count": 6,
      "outputs": []
    },
    {
      "cell_type": "code",
      "metadata": {
        "colab": {
          "base_uri": "https://localhost:8080/"
        },
        "id": "se64UDOXC1MF",
        "outputId": "eea5a9af-3ece-4a45-d1f2-452ea70e360d"
      },
      "source": [
        "#eliminate puncuation from test sentence\r\n",
        "no_punc = [char for char in test_sentence if char not in string.punctuation]\r\n",
        "no_punc"
      ],
      "execution_count": 7,
      "outputs": [
        {
          "output_type": "execute_result",
          "data": {
            "text/plain": [
              "['T',\n",
              " 'h',\n",
              " 'i',\n",
              " 's',\n",
              " ' ',\n",
              " 'i',\n",
              " 's',\n",
              " ' ',\n",
              " 'm',\n",
              " 'y',\n",
              " ' ',\n",
              " 'f',\n",
              " 'i',\n",
              " 'r',\n",
              " 's',\n",
              " 't',\n",
              " ' ',\n",
              " 't',\n",
              " 'e',\n",
              " 's',\n",
              " 't',\n",
              " ' ',\n",
              " 's',\n",
              " 'e',\n",
              " 'n',\n",
              " 't',\n",
              " 'e',\n",
              " 'n',\n",
              " 'c',\n",
              " 'e',\n",
              " ' ',\n",
              " 'W',\n",
              " 'o',\n",
              " 'w',\n",
              " ' ',\n",
              " 'w',\n",
              " 'e',\n",
              " ' ',\n",
              " 'a',\n",
              " 'r',\n",
              " 'e',\n",
              " ' ',\n",
              " 'd',\n",
              " 'o',\n",
              " 'i',\n",
              " 'n',\n",
              " 'g',\n",
              " ' ',\n",
              " 'j',\n",
              " 'u',\n",
              " 's',\n",
              " 't',\n",
              " ' ',\n",
              " 'f',\n",
              " 'i',\n",
              " 'n',\n",
              " 'e']"
            ]
          },
          "metadata": {
            "tags": []
          },
          "execution_count": 7
        }
      ]
    },
    {
      "cell_type": "code",
      "metadata": {
        "colab": {
          "base_uri": "https://localhost:8080/",
          "height": 35
        },
        "id": "1dt-Qx1eDPXo",
        "outputId": "c36f0033-c97c-44e4-c895-0ec79c3def3d"
      },
      "source": [
        "#now print them as whole sentence\r\n",
        "no_punc = ''.join(no_punc)\r\n",
        "no_punc"
      ],
      "execution_count": 8,
      "outputs": [
        {
          "output_type": "execute_result",
          "data": {
            "application/vnd.google.colaboratory.intrinsic+json": {
              "type": "string"
            },
            "text/plain": [
              "'This is my first test sentence Wow we are doing just fine'"
            ]
          },
          "metadata": {
            "tags": []
          },
          "execution_count": 8
        }
      ]
    },
    {
      "cell_type": "code",
      "metadata": {
        "colab": {
          "base_uri": "https://localhost:8080/"
        },
        "id": "VywNIOgsDubd",
        "outputId": "57cee383-17b5-4d48-fdf8-05bc2e3203e5"
      },
      "source": [
        "#split every word \r\n",
        "no_punc.split()"
      ],
      "execution_count": 9,
      "outputs": [
        {
          "output_type": "execute_result",
          "data": {
            "text/plain": [
              "['This',\n",
              " 'is',\n",
              " 'my',\n",
              " 'first',\n",
              " 'test',\n",
              " 'sentence',\n",
              " 'Wow',\n",
              " 'we',\n",
              " 'are',\n",
              " 'doing',\n",
              " 'just',\n",
              " 'fine']"
            ]
          },
          "metadata": {
            "tags": []
          },
          "execution_count": 9
        }
      ]
    },
    {
      "cell_type": "code",
      "metadata": {
        "id": "4qDiLBs2D5bu"
      },
      "source": [
        "#eliminate stopwords\r\n",
        "clean_sentence = [word for word in no_punc.split() if word.lower() not in stopwords.words('english')]"
      ],
      "execution_count": 10,
      "outputs": []
    },
    {
      "cell_type": "code",
      "metadata": {
        "colab": {
          "base_uri": "https://localhost:8080/"
        },
        "id": "0FdA9ICTEcYx",
        "outputId": "8ec71548-8c4a-4114-a342-47a677f63888"
      },
      "source": [
        "#print sentence\r\n",
        "clean_sentence"
      ],
      "execution_count": 11,
      "outputs": [
        {
          "output_type": "execute_result",
          "data": {
            "text/plain": [
              "['first', 'test', 'sentence', 'Wow', 'fine']"
            ]
          },
          "metadata": {
            "tags": []
          },
          "execution_count": 11
        }
      ]
    },
    {
      "cell_type": "code",
      "metadata": {
        "id": "KLUQdaN0Efd8"
      },
      "source": [
        ""
      ],
      "execution_count": null,
      "outputs": []
    }
  ]
}